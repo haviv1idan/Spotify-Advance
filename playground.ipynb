{
 "cells": [
  {
   "cell_type": "code",
   "execution_count": 8,
   "metadata": {},
   "outputs": [],
   "source": [
    "import json\n",
    "from yaml import safe_load\n",
    "from typing import Final\n",
    "from spotipy import Spotify\n",
    "from spotipy.oauth2 import SpotifyOAuth\n",
    "from functools import lru_cache"
   ]
  },
  {
   "cell_type": "code",
   "execution_count": 9,
   "metadata": {},
   "outputs": [],
   "source": [
    "def read_client_data() -> dict[str, str]:\n",
    "    with open('conf.yml', 'r') as f:\n",
    "        data = safe_load(f)\n",
    "        return data\n",
    "    \n",
    "client_data: dict[str, str] = read_client_data()\n",
    "CLIENT_ID: Final[str] = client_data.get('client_id')\n",
    "CLIENT_SECRET: Final[str] = client_data.get('client_secret')\n",
    "REDIRECT_URI: Final[str] = client_data.get('redirect_uri')"
   ]
  },
  {
   "cell_type": "code",
   "execution_count": 10,
   "metadata": {},
   "outputs": [],
   "source": [
    "# Authenticate with Spotify using OAuth\n",
    "sp = Spotify(auth_manager=SpotifyOAuth(client_id=CLIENT_ID,\n",
    "                                       client_secret=CLIENT_SECRET,\n",
    "                                       redirect_uri=REDIRECT_URI,\n",
    "                                       scope=\"user-library-read,user-top-read,user-read-recently-played\"))"
   ]
  },
  {
   "cell_type": "code",
   "execution_count": 4,
   "metadata": {},
   "outputs": [],
   "source": [
    "results = sp.current_user_top_tracks(time_range='short_term', limit=50)"
   ]
  },
  {
   "cell_type": "code",
   "execution_count": null,
   "metadata": {},
   "outputs": [],
   "source": [
    "results['items'][0]['id']"
   ]
  },
  {
   "cell_type": "code",
   "execution_count": 4,
   "metadata": {},
   "outputs": [],
   "source": [
    "@lru_cache(maxsize=1)\n",
    "def get_saved_tracks():\n",
    "    saved_tracks = []\n",
    "    tracks = sp.current_user_saved_tracks()\n",
    "    while tracks:\n",
    "        for i, item in enumerate(tracks['items']):\n",
    "           saved_tracks.append(item)\n",
    "           track = item['track']\n",
    "           if i % 10 == 0:\n",
    "               print(i, track['artists'][0]['name'], ' - ', track['name'], end=\"\\n\")\n",
    "           else:\n",
    "              print(i, track['artists'][0]['name'], ' - ', track['name'], end=\" \")\n",
    "        \n",
    "        if tracks['next']:\n",
    "            tracks = sp.next(tracks)\n",
    "        else:\n",
    "            tracks = None\n",
    "    return saved_tracks\n"
   ]
  },
  {
   "cell_type": "code",
   "execution_count": null,
   "metadata": {},
   "outputs": [],
   "source": [
    "saved_tracks = get_saved_tracks()"
   ]
  },
  {
   "cell_type": "code",
   "execution_count": null,
   "metadata": {},
   "outputs": [],
   "source": [
    "for track in saved_tracks:\n",
    "    print(track['track']['name'], end=\"\\n\")"
   ]
  },
  {
   "cell_type": "code",
   "execution_count": 49,
   "metadata": {},
   "outputs": [],
   "source": [
    "top_tracks = sp.current_user_top_tracks(time_range='short_term')"
   ]
  },
  {
   "cell_type": "code",
   "execution_count": null,
   "metadata": {},
   "outputs": [],
   "source": [
    "for item in top_tracks['items']:\n",
    "    print(json.dumps(item))"
   ]
  },
  {
   "cell_type": "code",
   "execution_count": 12,
   "metadata": {},
   "outputs": [],
   "source": [
    "@lru_cache(maxsize=1)\n",
    "def get_recently_played(limit: int = 50, before: str = None, after: str = None):\n",
    "    recently_played = []\n",
    "    tracks = sp.current_user_recently_played(limit=limit, after=after, before=before)\n",
    "    while tracks:\n",
    "        for i, item in enumerate(tracks['items']):\n",
    "           recently_played.append(item)\n",
    "           track = item['track']\n",
    "           if i % 10 == 0:\n",
    "               print(i, track['artists'][0]['name'], ' - ', track['name'], end=\"\\n\")\n",
    "           else:\n",
    "              print(i, track['artists'][0]['name'], ' - ', track['name'], end=\" \")\n",
    "        \n",
    "        if tracks['next']:\n",
    "            tracks = sp.next(tracks)\n",
    "        else:\n",
    "            tracks = None\n",
    "    return recently_played"
   ]
  },
  {
   "cell_type": "code",
   "execution_count": null,
   "metadata": {},
   "outputs": [],
   "source": [
    "before_unix_time = \"1727038800\"\n",
    "recently_played = get_recently_played(after=before_unix_time)"
   ]
  },
  {
   "cell_type": "code",
   "execution_count": null,
   "metadata": {},
   "outputs": [],
   "source": [
    "recently_played"
   ]
  },
  {
   "cell_type": "code",
   "execution_count": null,
   "metadata": {},
   "outputs": [],
   "source": []
  }
 ],
 "metadata": {
  "kernelspec": {
   "display_name": "venv_spotify",
   "language": "python",
   "name": "python3"
  },
  "language_info": {
   "codemirror_mode": {
    "name": "ipython",
    "version": 3
   },
   "file_extension": ".py",
   "mimetype": "text/x-python",
   "name": "python",
   "nbconvert_exporter": "python",
   "pygments_lexer": "ipython3",
   "version": "3.11.4"
  }
 },
 "nbformat": 4,
 "nbformat_minor": 2
}
