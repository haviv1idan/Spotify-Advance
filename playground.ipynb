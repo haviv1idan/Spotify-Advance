{
 "cells": [
  {
   "cell_type": "markdown",
   "metadata": {},
   "source": [
    "# Spotify Web API"
   ]
  },
  {
   "cell_type": "code",
   "execution_count": 1,
   "metadata": {},
   "outputs": [],
   "source": [
    "import json\n",
    "from yaml import safe_load\n",
    "from typing import Final\n",
    "from spotipy import Spotify\n",
    "from spotipy.oauth2 import SpotifyOAuth\n",
    "from functools import lru_cache"
   ]
  },
  {
   "cell_type": "markdown",
   "metadata": {},
   "source": [
    "## Read client data from conf.yml file"
   ]
  },
  {
   "cell_type": "code",
   "execution_count": 2,
   "metadata": {},
   "outputs": [],
   "source": [
    "def read_client_data() -> dict[str, str]:\n",
    "    with open('conf.yml', 'r') as f:\n",
    "        data = safe_load(f)\n",
    "        return data\n",
    "    \n",
    "client_data: dict[str, str] = read_client_data()\n",
    "CLIENT_ID: Final[str] = client_data.get('client_id')\n",
    "CLIENT_SECRET: Final[str] = client_data.get('client_secret')\n",
    "REDIRECT_URI: Final[str] = client_data.get('redirect_uri')"
   ]
  },
  {
   "cell_type": "markdown",
   "metadata": {},
   "source": [
    "## Create Spotify object with client authorization"
   ]
  },
  {
   "cell_type": "code",
   "execution_count": 3,
   "metadata": {},
   "outputs": [],
   "source": [
    "# Authenticate with Spotify using OAuth\n",
    "scopes=\"user-read-email,user-library-read,user-top-read,user-read-recently-played\"\n",
    "auth_manager=SpotifyOAuth(client_id=CLIENT_ID, client_secret=CLIENT_SECRET, redirect_uri=REDIRECT_URI, scope=scopes)\n",
    "sp = Spotify(auth_manager=auth_manager)"
   ]
  },
  {
   "cell_type": "markdown",
   "metadata": {},
   "source": [
    "## Get User"
   ]
  },
  {
   "cell_type": "code",
   "execution_count": null,
   "metadata": {},
   "outputs": [],
   "source": [
    "sp.me()"
   ]
  },
  {
   "cell_type": "markdown",
   "metadata": {},
   "source": [
    "## Top Tracks"
   ]
  },
  {
   "cell_type": "markdown",
   "metadata": {},
   "source": [
    "### Get current user top tracks in the short term, medium term and long term."
   ]
  },
  {
   "cell_type": "code",
   "execution_count": 4,
   "metadata": {},
   "outputs": [],
   "source": [
    "# Short term\n",
    "top_tracks = sp.current_user_top_tracks(time_range='short_term', limit=50)"
   ]
  },
  {
   "cell_type": "code",
   "execution_count": null,
   "metadata": {},
   "outputs": [],
   "source": [
    "# Medium term\n",
    "top_tracks = sp.current_user_top_tracks(time_range='medium_term', limit=50)"
   ]
  },
  {
   "cell_type": "code",
   "execution_count": null,
   "metadata": {},
   "outputs": [],
   "source": [
    "# Long term\n",
    "top_tracks = sp.current_user_top_tracks(time_range='long_term', limit=50)"
   ]
  },
  {
   "cell_type": "markdown",
   "metadata": {},
   "source": [
    "### Get list of top tracks and the artists"
   ]
  },
  {
   "cell_type": "code",
   "execution_count": null,
   "metadata": {},
   "outputs": [],
   "source": [
    "list(map(lambda x: f\"{x['artists'][0]['name']} - {x['name']}\", top_tracks['items']))"
   ]
  },
  {
   "cell_type": "markdown",
   "metadata": {},
   "source": [
    "### analyze the top tracks and return a dict of each artist and his tracks"
   ]
  },
  {
   "cell_type": "code",
   "execution_count": 9,
   "metadata": {},
   "outputs": [],
   "source": [
    "# artists <-> tracks analyze with artist is the most accured in user top tracks\n",
    "from copy import deepcopy\n",
    "def artists_tracks_analyze(top_tracks: dict) -> dict[str, str]:\n",
    "    tracks = deepcopy(top_tracks)\n",
    "    artists_tracks = {}\n",
    "    for i, item in enumerate(tracks['items']):\n",
    "        print(f\"{i}. {item['name']} - {item['artists'][0]['name']}\")\n",
    "        artist_name = item['artists'][0]['name']\n",
    "        track_name = item['name']\n",
    "        if artist_name not in artists_tracks.keys():\n",
    "            artists_tracks[artist_name] = [track_name]\n",
    "        else:\n",
    "            artists_tracks[artist_name].append(track_name)\n",
    "\n",
    "    return artists_tracks\n",
    "     "
   ]
  },
  {
   "cell_type": "code",
   "execution_count": null,
   "metadata": {},
   "outputs": [],
   "source": [
    "artists_tracks = artists_tracks_analyze(top_tracks)"
   ]
  },
  {
   "cell_type": "code",
   "execution_count": null,
   "metadata": {},
   "outputs": [],
   "source": [
    "artists_tracks"
   ]
  },
  {
   "cell_type": "markdown",
   "metadata": {},
   "source": [
    "### Count for each artist how muck songs he have in user top tracks in given term"
   ]
  },
  {
   "cell_type": "code",
   "execution_count": null,
   "metadata": {},
   "outputs": [],
   "source": [
    "for artist, tracks in artists_tracks.items():\n",
    "    print(f\"{artist} , {len(tracks)}\")"
   ]
  },
  {
   "cell_type": "markdown",
   "metadata": {},
   "source": [
    "## Saved Tracks"
   ]
  },
  {
   "cell_type": "markdown",
   "metadata": {},
   "source": [
    "### Get all saved tracks of current user"
   ]
  },
  {
   "cell_type": "code",
   "execution_count": 4,
   "metadata": {},
   "outputs": [],
   "source": [
    "# Wrapper function for saved tracks to reduce api calls\n",
    "@lru_cache(maxsize=1)\n",
    "def get_saved_tracks():\n",
    "    saved_tracks = []\n",
    "    tracks = sp.current_user_saved_tracks()\n",
    "    while tracks:\n",
    "        for i, item in enumerate(tracks['items']):\n",
    "           saved_tracks.append(item)\n",
    "           track = item['track']\n",
    "           if i % 10 == 0:\n",
    "               print(i, track['artists'][0]['name'], ' - ', track['name'], end=\"\\n\")\n",
    "           else:\n",
    "              print(i, track['artists'][0]['name'], ' - ', track['name'], end=\" \")\n",
    "        \n",
    "        if tracks['next']:\n",
    "            tracks = sp.next(tracks)\n",
    "        else:\n",
    "            tracks = None\n",
    "    return saved_tracks\n"
   ]
  },
  {
   "cell_type": "code",
   "execution_count": null,
   "metadata": {},
   "outputs": [],
   "source": [
    "saved_tracks = get_saved_tracks()"
   ]
  },
  {
   "cell_type": "code",
   "execution_count": null,
   "metadata": {},
   "outputs": [],
   "source": [
    "for track in saved_tracks:\n",
    "    print(track['track']['name'], end=\"\\n\")"
   ]
  },
  {
   "cell_type": "code",
   "execution_count": 49,
   "metadata": {},
   "outputs": [],
   "source": [
    "top_tracks = sp.current_user_top_tracks(time_range='short_term')"
   ]
  },
  {
   "cell_type": "code",
   "execution_count": null,
   "metadata": {},
   "outputs": [],
   "source": [
    "for item in top_tracks['items']:\n",
    "    print(json.dumps(item))"
   ]
  },
  {
   "cell_type": "markdown",
   "metadata": {},
   "source": [
    "## Recently Played Tracks"
   ]
  },
  {
   "cell_type": "code",
   "execution_count": 12,
   "metadata": {},
   "outputs": [],
   "source": [
    "# Wrapper function to get recetly played tracks\n",
    "@lru_cache(maxsize=1)\n",
    "def get_recently_played(limit: int = 50, before: str = None, after: str = None):\n",
    "    recently_played = []\n",
    "    tracks = sp.current_user_recently_played(limit=limit, after=after, before=before)\n",
    "    while tracks:\n",
    "        for i, item in enumerate(tracks['items']):\n",
    "           recently_played.append(item)\n",
    "           track = item['track']\n",
    "           if i % 10 == 0:\n",
    "               print(i, track['artists'][0]['name'], ' - ', track['name'], end=\"\\n\")\n",
    "           else:\n",
    "              print(i, track['artists'][0]['name'], ' - ', track['name'], end=\" \")\n",
    "        \n",
    "        if tracks['next']:\n",
    "            tracks = sp.next(tracks)\n",
    "        else:\n",
    "            tracks = None\n",
    "    return recently_played"
   ]
  },
  {
   "cell_type": "markdown",
   "metadata": {},
   "source": [
    "## Top Artists"
   ]
  },
  {
   "cell_type": "markdown",
   "metadata": {},
   "source": [
    "### Get current user top 10 artists"
   ]
  },
  {
   "cell_type": "code",
   "execution_count": 11,
   "metadata": {},
   "outputs": [
    {
     "name": "stdout",
     "output_type": "stream",
     "text": [
      "range= 'short_term'\n",
      "0. Eminem\n",
      "1. NF\n",
      "2. Twenty One Pilots\n",
      "3. Imagine Dragons\n",
      "4. Arctic Monkeys\n",
      "5. Red Hot Chili Peppers\n",
      "6. David Guetta\n",
      "7. Coldplay\n",
      "8. Green Day\n",
      "9. Queen\n",
      "\n",
      "range= 'medium_term'\n",
      "0. Twenty One Pilots\n",
      "1. Eminem\n",
      "2. Queen\n",
      "3. Red Hot Chili Peppers\n",
      "4. Arctic Monkeys\n",
      "5. Nirvana\n",
      "6. Green Day\n",
      "7. David Guetta\n",
      "8. NF\n",
      "9. Imagine Dragons\n",
      "\n",
      "range= 'long_term'\n",
      "0. Twenty One Pilots\n",
      "1. Nirvana\n",
      "2. Arctic Monkeys\n",
      "3. Red Hot Chili Peppers\n",
      "4. Eminem\n",
      "5. Queen\n",
      "6. R.E.M.\n",
      "7. Green Day\n",
      "8. The Beatles\n",
      "9. The Weeknd\n",
      "\n"
     ]
    }
   ],
   "source": [
    "ranges = ['short_term', 'medium_term', 'long_term']\n",
    "\n",
    "for range in ranges:\n",
    "    print(f'{range= }')\n",
    "\n",
    "    top_artists = sp.current_user_top_artists(time_range=range, limit=10)\n",
    "\n",
    "    for i, item in enumerate(top_artists['items']):\n",
    "        print(f\"{i}. {item['name']}\")\n",
    "    print()"
   ]
  }
 ],
 "metadata": {
  "kernelspec": {
   "display_name": "venv_spotify",
   "language": "python",
   "name": "python3"
  },
  "language_info": {
   "codemirror_mode": {
    "name": "ipython",
    "version": 3
   },
   "file_extension": ".py",
   "mimetype": "text/x-python",
   "name": "python",
   "nbconvert_exporter": "python",
   "pygments_lexer": "ipython3",
   "version": "3.12.4"
  }
 },
 "nbformat": 4,
 "nbformat_minor": 2
}
