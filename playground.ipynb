{
 "cells": [
  {
   "cell_type": "markdown",
   "metadata": {},
   "source": [
    "# Spotify Web API"
   ]
  },
  {
   "cell_type": "code",
   "execution_count": 1,
   "metadata": {},
   "outputs": [],
   "source": [
    "import json\n",
    "from yaml import safe_load, dump\n",
    "from typing import Final\n",
    "from spotipy import Spotify\n",
    "from spotipy.oauth2 import SpotifyOAuth\n",
    "from functools import lru_cache"
   ]
  },
  {
   "cell_type": "code",
   "execution_count": 4,
   "metadata": {},
   "outputs": [],
   "source": [
    "import logging\n",
    "\n",
    "logging.getLogger(__name__)\n",
    "logging.getLogger('spotipy').setLevel(logging.DEBUG)\n",
    "logging.basicConfig(level=logging.DEBUG, filename='logs/playground.log', filemode='w')"
   ]
  },
  {
   "cell_type": "markdown",
   "metadata": {},
   "source": [
    "## Read client data from conf.yml file"
   ]
  },
  {
   "cell_type": "code",
   "execution_count": 5,
   "metadata": {},
   "outputs": [],
   "source": [
    "def read_client_data() -> dict[str, str]:\n",
    "    with open('conf.yml', 'r') as f:\n",
    "        data = safe_load(f)\n",
    "        return data\n",
    "    \n",
    "client_data: dict[str, str] = read_client_data()\n",
    "CLIENT_ID: Final[str] = client_data.get('client_id')\n",
    "CLIENT_SECRET: Final[str] = client_data.get('client_secret')\n",
    "REDIRECT_URI: Final[str] = client_data.get('redirect_uri')"
   ]
  },
  {
   "cell_type": "markdown",
   "metadata": {},
   "source": [
    "## Create Spotify object with client authorization"
   ]
  },
  {
   "cell_type": "code",
   "execution_count": 6,
   "metadata": {},
   "outputs": [],
   "source": [
    "# Authenticate with Spotify using OAuth\n",
    "scopes=\"user-read-email,user-library-read,user-top-read,user-read-recently-played\"\n",
    "auth_manager=SpotifyOAuth(client_id=CLIENT_ID, client_secret=CLIENT_SECRET, redirect_uri=REDIRECT_URI, scope=scopes)\n",
    "sp = Spotify(auth_manager=auth_manager)"
   ]
  },
  {
   "cell_type": "markdown",
   "metadata": {},
   "source": [
    "## Get User"
   ]
  },
  {
   "cell_type": "code",
   "execution_count": null,
   "metadata": {},
   "outputs": [],
   "source": [
    "sp.me()"
   ]
  },
  {
   "cell_type": "markdown",
   "metadata": {},
   "source": [
    "## Top Tracks"
   ]
  },
  {
   "cell_type": "markdown",
   "metadata": {},
   "source": [
    "### Get current user top tracks in the short term, medium term and long term."
   ]
  },
  {
   "cell_type": "code",
   "execution_count": 4,
   "metadata": {},
   "outputs": [],
   "source": [
    "# Short term\n",
    "top_tracks = sp.current_user_top_tracks(time_range='short_term', limit=50)"
   ]
  },
  {
   "cell_type": "code",
   "execution_count": null,
   "metadata": {},
   "outputs": [],
   "source": [
    "# Medium term\n",
    "top_tracks = sp.current_user_top_tracks(time_range='medium_term', limit=50)"
   ]
  },
  {
   "cell_type": "code",
   "execution_count": null,
   "metadata": {},
   "outputs": [],
   "source": [
    "# Long term\n",
    "top_tracks = sp.current_user_top_tracks(time_range='long_term', limit=50)"
   ]
  },
  {
   "cell_type": "markdown",
   "metadata": {},
   "source": [
    "### Get list of top tracks and the artists"
   ]
  },
  {
   "cell_type": "code",
   "execution_count": null,
   "metadata": {},
   "outputs": [],
   "source": [
    "list(map(lambda x: f\"{x['artists'][0]['name']} - {x['name']}\", top_tracks['items']))"
   ]
  },
  {
   "cell_type": "markdown",
   "metadata": {},
   "source": [
    "### analyze the top tracks and return a dict of each artist and his tracks"
   ]
  },
  {
   "cell_type": "code",
   "execution_count": 9,
   "metadata": {},
   "outputs": [],
   "source": [
    "# artists <-> tracks analyze with artist is the most accured in user top tracks\n",
    "from copy import deepcopy\n",
    "def artists_tracks_analyze(top_tracks: dict) -> dict[str, str]:\n",
    "    tracks = deepcopy(top_tracks)\n",
    "    artists_tracks = {}\n",
    "    for i, item in enumerate(tracks['items']):\n",
    "        print(f\"{i}. {item['name']} - {item['artists'][0]['name']}\")\n",
    "        artist_name = item['artists'][0]['name']\n",
    "        track_name = item['name']\n",
    "        if artist_name not in artists_tracks.keys():\n",
    "            artists_tracks[artist_name] = [track_name]\n",
    "        else:\n",
    "            artists_tracks[artist_name].append(track_name)\n",
    "\n",
    "    return artists_tracks\n",
    "     "
   ]
  },
  {
   "cell_type": "code",
   "execution_count": null,
   "metadata": {},
   "outputs": [],
   "source": [
    "artists_tracks = artists_tracks_analyze(top_tracks)"
   ]
  },
  {
   "cell_type": "code",
   "execution_count": null,
   "metadata": {},
   "outputs": [],
   "source": [
    "artists_tracks"
   ]
  },
  {
   "cell_type": "markdown",
   "metadata": {},
   "source": [
    "### Count for each artist how muck songs he have in user top tracks in given term"
   ]
  },
  {
   "cell_type": "code",
   "execution_count": null,
   "metadata": {},
   "outputs": [],
   "source": [
    "for artist, tracks in artists_tracks.items():\n",
    "    print(f\"{artist} , {len(tracks)}\")"
   ]
  },
  {
   "cell_type": "markdown",
   "metadata": {},
   "source": [
    "## Saved Tracks"
   ]
  },
  {
   "cell_type": "markdown",
   "metadata": {},
   "source": [
    "### Get all saved tracks of current user"
   ]
  },
  {
   "cell_type": "code",
   "execution_count": 4,
   "metadata": {},
   "outputs": [],
   "source": [
    "# Wrapper function for saved tracks to reduce api calls\n",
    "@lru_cache(maxsize=1)\n",
    "def get_saved_tracks():\n",
    "    saved_tracks = []\n",
    "    tracks = sp.current_user_saved_tracks()\n",
    "    while tracks:\n",
    "        for i, item in enumerate(tracks['items']):\n",
    "           saved_tracks.append(item)\n",
    "           track = item['track']\n",
    "           if i % 10 == 0:\n",
    "               print(i, track['artists'][0]['name'], ' - ', track['name'], end=\"\\n\")\n",
    "           else:\n",
    "              print(i, track['artists'][0]['name'], ' - ', track['name'], end=\" \")\n",
    "        \n",
    "        if tracks['next']:\n",
    "            tracks = sp.next(tracks)\n",
    "        else:\n",
    "            tracks = None\n",
    "    return saved_tracks\n"
   ]
  },
  {
   "cell_type": "code",
   "execution_count": null,
   "metadata": {},
   "outputs": [],
   "source": [
    "saved_tracks = get_saved_tracks()"
   ]
  },
  {
   "cell_type": "code",
   "execution_count": null,
   "metadata": {},
   "outputs": [],
   "source": [
    "for track in saved_tracks:\n",
    "    print(track['track']['name'], end=\"\\n\")"
   ]
  },
  {
   "cell_type": "code",
   "execution_count": 49,
   "metadata": {},
   "outputs": [],
   "source": [
    "top_tracks = sp.current_user_top_tracks(time_range='short_term')"
   ]
  },
  {
   "cell_type": "code",
   "execution_count": null,
   "metadata": {},
   "outputs": [],
   "source": [
    "for item in top_tracks['items']:\n",
    "    print(json.dumps(item))"
   ]
  },
  {
   "cell_type": "markdown",
   "metadata": {},
   "source": [
    "### Read user saved tracks and store to yaml file"
   ]
  },
  {
   "cell_type": "code",
   "execution_count": 19,
   "metadata": {},
   "outputs": [],
   "source": [
    "saved_tracks = sp.current_user_saved_tracks(10)\n",
    "saved_tracks = saved_tracks['items']"
   ]
  },
  {
   "cell_type": "code",
   "execution_count": null,
   "metadata": {},
   "outputs": [],
   "source": [
    "saved_tracks_dict = {}\n",
    "for track in saved_tracks:\n",
    "    track_id = track['track']['id']\n",
    "    obj_track = {\n",
    "        'added_at': track['added_at'],\n",
    "        'name': track['track']['name'],\n",
    "        'artist': track['track']['artists'][0]['name'],\n",
    "        'popularity': track['track']['popularity'],\n",
    "        'uri': track['track']['uri']\n",
    "    }\n",
    "    saved_tracks_dict[track_id] = obj_track\n",
    "\n",
    "print(saved_tracks_dict)\n",
    "with open('test.json', 'w') as f:\n",
    "    json.dump(saved_tracks_dict, f)\n",
    "\n",
    "    "
   ]
  },
  {
   "cell_type": "markdown",
   "metadata": {},
   "source": [
    "## Recently Played Tracks"
   ]
  },
  {
   "cell_type": "code",
   "execution_count": 13,
   "metadata": {},
   "outputs": [],
   "source": [
    "result = sp.current_user_recently_played(10)"
   ]
  },
  {
   "cell_type": "code",
   "execution_count": null,
   "metadata": {},
   "outputs": [],
   "source": [
    "result['items']\n",
    "for item in result['items']:\n",
    "    played_at = item['played_at']\n",
    "    track = item['track']\n",
    "    track_name = track['name']\n",
    "    artist = track['artists'][0]['name']\n",
    "    print(f\"Song: {track_name}, artist: {artist} was played at: {played_at}\")"
   ]
  },
  {
   "cell_type": "code",
   "execution_count": 12,
   "metadata": {},
   "outputs": [],
   "source": [
    "# Wrapper function to get recetly played tracks\n",
    "@lru_cache(maxsize=1)\n",
    "def get_recently_played(limit: int = 50, before: str = None, after: str = None):\n",
    "    recently_played = []\n",
    "    tracks = sp.current_user_recently_played(limit=limit, after=after, before=before)\n",
    "    while tracks:\n",
    "        for i, item in enumerate(tracks['items']):\n",
    "           recently_played.append(item)\n",
    "           track = item['track']\n",
    "           if i % 10 == 0:\n",
    "               print(i, track['artists'][0]['name'], ' - ', track['name'], end=\"\\n\")\n",
    "           else:\n",
    "              print(i, track['artists'][0]['name'], ' - ', track['name'], end=\" \")\n",
    "        \n",
    "        if tracks['next']:\n",
    "            tracks = sp.next(tracks)\n",
    "        else:\n",
    "            tracks = None\n",
    "    return recently_played"
   ]
  },
  {
   "cell_type": "markdown",
   "metadata": {},
   "source": [
    "## Top Artists"
   ]
  },
  {
   "cell_type": "markdown",
   "metadata": {},
   "source": [
    "### Get current user top 10 artists"
   ]
  },
  {
   "cell_type": "code",
   "execution_count": null,
   "metadata": {},
   "outputs": [],
   "source": [
    "ranges = ['short_term', 'medium_term', 'long_term']\n",
    "\n",
    "for range in ranges:\n",
    "    print(f'{range= }')\n",
    "\n",
    "    top_artists = sp.current_user_top_artists(time_range=range, limit=10)\n",
    "\n",
    "    for i, item in enumerate(top_artists['items']):\n",
    "        print(f\"{i}. {item['name']}\")\n",
    "    print()"
   ]
  },
  {
   "cell_type": "markdown",
   "metadata": {},
   "source": [
    "# Get Recommendations"
   ]
  },
  {
   "cell_type": "code",
   "execution_count": 9,
   "metadata": {},
   "outputs": [],
   "source": [
    "from random import shuffle\n",
    "\n",
    "# Get the user's top tracks\n",
    "top_tracks = sp.current_user_top_tracks(limit=10, time_range='long_term')\n",
    "\n",
    "# Get the user's liked tracks\n",
    "liked_tracks = sp.current_user_saved_tracks(limit=10)\n",
    "\n",
    "# Get the user's listening history\n",
    "recent_tracks = sp.current_user_recently_played(limit=10)\n",
    "\n",
    "# Extract a list of the top track IDs\n",
    "top_track_ids = list(map(lambda track: track['id'], top_tracks['items']))\n",
    "# top_track_ids = [track['id'] for track in top_tracks['items']]\n",
    "\n",
    "# Extract a list of the liked track IDs\n",
    "liked_track_ids = list(map(lambda track: track['track']['id'], liked_tracks['items']))\n",
    "# liked_track_ids = [track['track']['id'] for track in liked_tracks['items']]\n",
    "\n",
    "# Extract a list of the history track IDs\n",
    "history_track_ids = list(map(lambda track: track['track']['id'], recent_tracks['items']))\n",
    "# history_track_ids = [track['track']['id'] for track in recent_tracks['items']]\n",
    "\n",
    "# Combine the three lists and shuffle them randomly\n",
    "seed_track_ids = top_track_ids + liked_track_ids + history_track_ids\n",
    "shuffle(seed_track_ids)\n",
    "\n",
    "recommendations = sp.recommendations(\n",
    "    seed_tracks=seed_track_ids[:5]\n",
    ")"
   ]
  },
  {
   "cell_type": "code",
   "execution_count": null,
   "metadata": {},
   "outputs": [],
   "source": [
    "recommendations"
   ]
  },
  {
   "cell_type": "code",
   "execution_count": null,
   "metadata": {},
   "outputs": [],
   "source": [
    "from prettytable import PrettyTable\n",
    "\n",
    "table = PrettyTable(\n",
    "    field_names=['name', 'popularity', 'artist', 'album']\n",
    ")\n",
    "\n",
    "for track in recommendations['tracks']:\n",
    "    _name = track['name']\n",
    "    _popularity = track['popularity']\n",
    "    _artist = track['artists'][0]['name']\n",
    "    _album = track['album']['name']\n",
    "    table.add_row([_name, _popularity, _artist, _album])\n",
    "    # print(f\"track: {_name}\\t popularity: {_popularity}\\t artist: {_artist}\\t album: {_album}\")\n",
    "\n",
    "print(table)"
   ]
  }
 ],
 "metadata": {
  "kernelspec": {
   "display_name": "venv",
   "language": "python",
   "name": "python3"
  },
  "language_info": {
   "codemirror_mode": {
    "name": "ipython",
    "version": 3
   },
   "file_extension": ".py",
   "mimetype": "text/x-python",
   "name": "python",
   "nbconvert_exporter": "python",
   "pygments_lexer": "ipython3",
   "version": "3.12.4"
  }
 },
 "nbformat": 4,
 "nbformat_minor": 2
}
