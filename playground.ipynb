{
 "cells": [
  {
   "cell_type": "markdown",
   "metadata": {},
   "source": [
    "# Spotify Web API"
   ]
  },
  {
   "cell_type": "code",
   "execution_count": 1,
   "metadata": {},
   "outputs": [],
   "source": [
    "import json\n",
    "from yaml import safe_load\n",
    "from typing import Final\n",
    "from spotipy import Spotify\n",
    "from spotipy.oauth2 import SpotifyOAuth\n",
    "from functools import lru_cache"
   ]
  },
  {
   "cell_type": "markdown",
   "metadata": {},
   "source": [
    "## Read client data from conf.yml file"
   ]
  },
  {
   "cell_type": "code",
   "execution_count": 2,
   "metadata": {},
   "outputs": [],
   "source": [
    "def read_client_data() -> dict[str, str]:\n",
    "    with open('conf.yml', 'r') as f:\n",
    "        data = safe_load(f)\n",
    "        return data\n",
    "    \n",
    "client_data: dict[str, str] = read_client_data()\n",
    "CLIENT_ID: Final[str] = client_data.get('client_id')\n",
    "CLIENT_SECRET: Final[str] = client_data.get('client_secret')\n",
    "REDIRECT_URI: Final[str] = client_data.get('redirect_uri')"
   ]
  },
  {
   "cell_type": "markdown",
   "metadata": {},
   "source": [
    "## Create Spotify object with client authorization"
   ]
  },
  {
   "cell_type": "code",
   "execution_count": 3,
   "metadata": {},
   "outputs": [],
   "source": [
    "# Authenticate with Spotify using OAuth\n",
    "sp = Spotify(auth_manager=SpotifyOAuth(client_id=CLIENT_ID,\n",
    "                                       client_secret=CLIENT_SECRET,\n",
    "                                       redirect_uri=REDIRECT_URI,\n",
    "                                       scope=\"user-library-read,user-top-read,user-read-recently-played\"))"
   ]
  },
  {
   "cell_type": "markdown",
   "metadata": {},
   "source": [
    "## Top Tracks"
   ]
  },
  {
   "cell_type": "markdown",
   "metadata": {},
   "source": [
    "### Get current user top tracks in the short term, medium term and long term."
   ]
  },
  {
   "cell_type": "code",
   "execution_count": 4,
   "metadata": {},
   "outputs": [],
   "source": [
    "# Short term\n",
    "top_tracks = sp.current_user_top_tracks(time_range='short_term', limit=50)"
   ]
  },
  {
   "cell_type": "code",
   "execution_count": null,
   "metadata": {},
   "outputs": [],
   "source": [
    "# Medium term\n",
    "top_tracks = sp.current_user_top_tracks(time_range='medium_term', limit=50)"
   ]
  },
  {
   "cell_type": "code",
   "execution_count": null,
   "metadata": {},
   "outputs": [],
   "source": [
    "# Long term\n",
    "top_tracks = sp.current_user_top_tracks(time_range='long_term', limit=50)"
   ]
  },
  {
   "cell_type": "markdown",
   "metadata": {},
   "source": [
    "### Get list of top tracks and the artists"
   ]
  },
  {
   "cell_type": "code",
   "execution_count": 8,
   "metadata": {},
   "outputs": [
    {
     "data": {
      "text/plain": [
       "['Eminem - Godzilla (feat. Juice WRLD)',\n",
       " 'NF - HOPE',\n",
       " 'NF - The Search',\n",
       " 'NF - When I Grow Up',\n",
       " 'NF - Time',\n",
       " 'NF - HAPPY',\n",
       " 'Eminem - Brand New Dance',\n",
       " 'Twenty One Pilots - Car Radio',\n",
       " 'Eminem - Tobey (feat. Big Sean and BabyTron)',\n",
       " 'NF - Lie',\n",
       " 'Eminem - Love The Way You Lie',\n",
       " 'Eminem - Till I Collapse',\n",
       " 'Eminem - Mockingbird',\n",
       " 'Eminem - Lucky You (feat. Joyner Lucas)',\n",
       " 'Eminem - Rap God',\n",
       " 'Eminem - Not Afraid',\n",
       " 'Daniel Salomon - אהבה',\n",
       " 'Calvin Harris - I Need Your Love (feat. Ellie Goulding)',\n",
       " 'Avicii - Heaven',\n",
       " 'Taylor Swift - Fortnight (feat. Post Malone) - BLOND:ISH Remix',\n",
       " 'Gnarls Barkley - Crazy',\n",
       " 'Eminem - Habits',\n",
       " 'Twenty One Pilots - Leave the City',\n",
       " 'Bonnie Tyler - Holding Out for a Hero - From \"Footloose\" Soundtrack',\n",
       " 'Eminem - Trouble',\n",
       " 'Twenty One Pilots - Choker',\n",
       " 'Marshmello - Happier',\n",
       " 'Eminem - River (feat. Ed Sheeran)',\n",
       " 'Queen - Good Old-Fashioned Lover Boy - Remastered 2011',\n",
       " 'Twenty One Pilots - Stressed Out',\n",
       " 'NF - RUNNING',\n",
       " 'Calvin Harris - Summer',\n",
       " 'Macklemore - Glorious (feat. Skylar Grey)',\n",
       " 'Post Malone - Sunflower - Spider-Man: Into the Spider-Verse',\n",
       " 'Twenty One Pilots - Heathens',\n",
       " 'Trevor Daniel - Falling',\n",
       " 'XXXTENTACION - Everybody Dies In Their Nightmares',\n",
       " 'AJR - Burn the House Down',\n",
       " 'NF - Let You Down',\n",
       " 'Imagine Dragons - Nice to Meet You',\n",
       " 'Fall Out Boy - Centuries',\n",
       " 'NF - MOTTO',\n",
       " 'Ellie Goulding - Hate Me',\n",
       " 'Twenty One Pilots - Overcompensate',\n",
       " 'Eminem - Killshot',\n",
       " 'Eminem - Lose Yourself',\n",
       " 'Juice WRLD - Come & Go (with Marshmello)',\n",
       " 'George Ezra - Budapest',\n",
       " 'The Beatles - In My Life - Remastered 2009',\n",
       " 'Promoting Sounds - Memory']"
      ]
     },
     "execution_count": 8,
     "metadata": {},
     "output_type": "execute_result"
    }
   ],
   "source": [
    "list(map(lambda x: f\"{x['artists'][0]['name']} - {x['name']}\", top_tracks['items']))"
   ]
  },
  {
   "cell_type": "markdown",
   "metadata": {},
   "source": [
    "### analyze the top tracks and return a dict of each artist and his tracks"
   ]
  },
  {
   "cell_type": "code",
   "execution_count": 9,
   "metadata": {},
   "outputs": [],
   "source": [
    "# artists <-> tracks analyze with artist is the most accured in user top tracks\n",
    "from copy import deepcopy\n",
    "def artists_tracks_analyze(top_tracks: dict) -> dict[str, str]:\n",
    "    tracks = deepcopy(top_tracks)\n",
    "    artists_tracks = {}\n",
    "    for i, item in enumerate(tracks['items']):\n",
    "        print(f\"{i}. {item['name']} - {item['artists'][0]['name']}\")\n",
    "        artist_name = item['artists'][0]['name']\n",
    "        track_name = item['name']\n",
    "        if artist_name not in artists_tracks.keys():\n",
    "            artists_tracks[artist_name] = [track_name]\n",
    "        else:\n",
    "            artists_tracks[artist_name].append(track_name)\n",
    "\n",
    "    return artists_tracks\n",
    "     "
   ]
  },
  {
   "cell_type": "code",
   "execution_count": 10,
   "metadata": {},
   "outputs": [
    {
     "name": "stdout",
     "output_type": "stream",
     "text": [
      "0. Godzilla (feat. Juice WRLD) - Eminem\n",
      "1. HOPE - NF\n",
      "2. The Search - NF\n",
      "3. When I Grow Up - NF\n",
      "4. Time - NF\n",
      "5. HAPPY - NF\n",
      "6. Brand New Dance - Eminem\n",
      "7. Car Radio - Twenty One Pilots\n",
      "8. Tobey (feat. Big Sean and BabyTron) - Eminem\n",
      "9. Lie - NF\n",
      "10. Love The Way You Lie - Eminem\n",
      "11. Till I Collapse - Eminem\n",
      "12. Mockingbird - Eminem\n",
      "13. Lucky You (feat. Joyner Lucas) - Eminem\n",
      "14. Rap God - Eminem\n",
      "15. Not Afraid - Eminem\n",
      "16. אהבה - Daniel Salomon\n",
      "17. I Need Your Love (feat. Ellie Goulding) - Calvin Harris\n",
      "18. Heaven - Avicii\n",
      "19. Fortnight (feat. Post Malone) - BLOND:ISH Remix - Taylor Swift\n",
      "20. Crazy - Gnarls Barkley\n",
      "21. Habits - Eminem\n",
      "22. Leave the City - Twenty One Pilots\n",
      "23. Holding Out for a Hero - From \"Footloose\" Soundtrack - Bonnie Tyler\n",
      "24. Trouble - Eminem\n",
      "25. Choker - Twenty One Pilots\n",
      "26. Happier - Marshmello\n",
      "27. River (feat. Ed Sheeran) - Eminem\n",
      "28. Good Old-Fashioned Lover Boy - Remastered 2011 - Queen\n",
      "29. Stressed Out - Twenty One Pilots\n",
      "30. RUNNING - NF\n",
      "31. Summer - Calvin Harris\n",
      "32. Glorious (feat. Skylar Grey) - Macklemore\n",
      "33. Sunflower - Spider-Man: Into the Spider-Verse - Post Malone\n",
      "34. Heathens - Twenty One Pilots\n",
      "35. Falling - Trevor Daniel\n",
      "36. Everybody Dies In Their Nightmares - XXXTENTACION\n",
      "37. Burn the House Down - AJR\n",
      "38. Let You Down - NF\n",
      "39. Nice to Meet You - Imagine Dragons\n",
      "40. Centuries - Fall Out Boy\n",
      "41. MOTTO - NF\n",
      "42. Hate Me - Ellie Goulding\n",
      "43. Overcompensate - Twenty One Pilots\n",
      "44. Killshot - Eminem\n",
      "45. Lose Yourself - Eminem\n",
      "46. Come & Go (with Marshmello) - Juice WRLD\n",
      "47. Budapest - George Ezra\n",
      "48. In My Life - Remastered 2009 - The Beatles\n",
      "49. Memory - Promoting Sounds\n"
     ]
    }
   ],
   "source": [
    "artists_tracks = artists_tracks_analyze(top_tracks)"
   ]
  },
  {
   "cell_type": "code",
   "execution_count": 13,
   "metadata": {},
   "outputs": [
    {
     "data": {
      "text/plain": [
       "{'Eminem': ['Godzilla (feat. Juice WRLD)',\n",
       "  'Brand New Dance',\n",
       "  'Tobey (feat. Big Sean and BabyTron)',\n",
       "  'Love The Way You Lie',\n",
       "  'Till I Collapse',\n",
       "  'Mockingbird',\n",
       "  'Lucky You (feat. Joyner Lucas)',\n",
       "  'Rap God',\n",
       "  'Not Afraid',\n",
       "  'Habits',\n",
       "  'Trouble',\n",
       "  'River (feat. Ed Sheeran)',\n",
       "  'Killshot',\n",
       "  'Lose Yourself'],\n",
       " 'NF': ['HOPE',\n",
       "  'The Search',\n",
       "  'When I Grow Up',\n",
       "  'Time',\n",
       "  'HAPPY',\n",
       "  'Lie',\n",
       "  'RUNNING',\n",
       "  'Let You Down',\n",
       "  'MOTTO'],\n",
       " 'Twenty One Pilots': ['Car Radio',\n",
       "  'Leave the City',\n",
       "  'Choker',\n",
       "  'Stressed Out',\n",
       "  'Heathens',\n",
       "  'Overcompensate'],\n",
       " 'Daniel Salomon': ['אהבה'],\n",
       " 'Calvin Harris': ['I Need Your Love (feat. Ellie Goulding)', 'Summer'],\n",
       " 'Avicii': ['Heaven'],\n",
       " 'Taylor Swift': ['Fortnight (feat. Post Malone) - BLOND:ISH Remix'],\n",
       " 'Gnarls Barkley': ['Crazy'],\n",
       " 'Bonnie Tyler': ['Holding Out for a Hero - From \"Footloose\" Soundtrack'],\n",
       " 'Marshmello': ['Happier'],\n",
       " 'Queen': ['Good Old-Fashioned Lover Boy - Remastered 2011'],\n",
       " 'Macklemore': ['Glorious (feat. Skylar Grey)'],\n",
       " 'Post Malone': ['Sunflower - Spider-Man: Into the Spider-Verse'],\n",
       " 'Trevor Daniel': ['Falling'],\n",
       " 'XXXTENTACION': ['Everybody Dies In Their Nightmares'],\n",
       " 'AJR': ['Burn the House Down'],\n",
       " 'Imagine Dragons': ['Nice to Meet You'],\n",
       " 'Fall Out Boy': ['Centuries'],\n",
       " 'Ellie Goulding': ['Hate Me'],\n",
       " 'Juice WRLD': ['Come & Go (with Marshmello)'],\n",
       " 'George Ezra': ['Budapest'],\n",
       " 'The Beatles': ['In My Life - Remastered 2009'],\n",
       " 'Promoting Sounds': ['Memory']}"
      ]
     },
     "execution_count": 13,
     "metadata": {},
     "output_type": "execute_result"
    }
   ],
   "source": [
    "artists_tracks"
   ]
  },
  {
   "cell_type": "markdown",
   "metadata": {},
   "source": [
    "### Count for each artist how muck songs he have in user top tracks in given term"
   ]
  },
  {
   "cell_type": "code",
   "execution_count": 16,
   "metadata": {},
   "outputs": [
    {
     "name": "stdout",
     "output_type": "stream",
     "text": [
      "Eminem , 14\n",
      "NF , 9\n",
      "Twenty One Pilots , 6\n",
      "Daniel Salomon , 1\n",
      "Calvin Harris , 2\n",
      "Avicii , 1\n",
      "Taylor Swift , 1\n",
      "Gnarls Barkley , 1\n",
      "Bonnie Tyler , 1\n",
      "Marshmello , 1\n",
      "Queen , 1\n",
      "Macklemore , 1\n",
      "Post Malone , 1\n",
      "Trevor Daniel , 1\n",
      "XXXTENTACION , 1\n",
      "AJR , 1\n",
      "Imagine Dragons , 1\n",
      "Fall Out Boy , 1\n",
      "Ellie Goulding , 1\n",
      "Juice WRLD , 1\n",
      "George Ezra , 1\n",
      "The Beatles , 1\n",
      "Promoting Sounds , 1\n"
     ]
    }
   ],
   "source": [
    "for artist, tracks in artists_tracks.items():\n",
    "    print(f\"{artist} , {len(tracks)}\")"
   ]
  },
  {
   "cell_type": "markdown",
   "metadata": {},
   "source": [
    "## Saved Tracks"
   ]
  },
  {
   "cell_type": "markdown",
   "metadata": {},
   "source": [
    "### Get all saved tracks of current user"
   ]
  },
  {
   "cell_type": "code",
   "execution_count": 4,
   "metadata": {},
   "outputs": [],
   "source": [
    "# Wrapper function for saved tracks to reduce api calls\n",
    "@lru_cache(maxsize=1)\n",
    "def get_saved_tracks():\n",
    "    saved_tracks = []\n",
    "    tracks = sp.current_user_saved_tracks()\n",
    "    while tracks:\n",
    "        for i, item in enumerate(tracks['items']):\n",
    "           saved_tracks.append(item)\n",
    "           track = item['track']\n",
    "           if i % 10 == 0:\n",
    "               print(i, track['artists'][0]['name'], ' - ', track['name'], end=\"\\n\")\n",
    "           else:\n",
    "              print(i, track['artists'][0]['name'], ' - ', track['name'], end=\" \")\n",
    "        \n",
    "        if tracks['next']:\n",
    "            tracks = sp.next(tracks)\n",
    "        else:\n",
    "            tracks = None\n",
    "    return saved_tracks\n"
   ]
  },
  {
   "cell_type": "code",
   "execution_count": null,
   "metadata": {},
   "outputs": [],
   "source": [
    "saved_tracks = get_saved_tracks()"
   ]
  },
  {
   "cell_type": "code",
   "execution_count": null,
   "metadata": {},
   "outputs": [],
   "source": [
    "for track in saved_tracks:\n",
    "    print(track['track']['name'], end=\"\\n\")"
   ]
  },
  {
   "cell_type": "code",
   "execution_count": 49,
   "metadata": {},
   "outputs": [],
   "source": [
    "top_tracks = sp.current_user_top_tracks(time_range='short_term')"
   ]
  },
  {
   "cell_type": "code",
   "execution_count": null,
   "metadata": {},
   "outputs": [],
   "source": [
    "for item in top_tracks['items']:\n",
    "    print(json.dumps(item))"
   ]
  },
  {
   "cell_type": "markdown",
   "metadata": {},
   "source": [
    "## Recently Played Tracks"
   ]
  },
  {
   "cell_type": "code",
   "execution_count": 12,
   "metadata": {},
   "outputs": [],
   "source": [
    "# Wrapper function to get recetly played tracks\n",
    "@lru_cache(maxsize=1)\n",
    "def get_recently_played(limit: int = 50, before: str = None, after: str = None):\n",
    "    recently_played = []\n",
    "    tracks = sp.current_user_recently_played(limit=limit, after=after, before=before)\n",
    "    while tracks:\n",
    "        for i, item in enumerate(tracks['items']):\n",
    "           recently_played.append(item)\n",
    "           track = item['track']\n",
    "           if i % 10 == 0:\n",
    "               print(i, track['artists'][0]['name'], ' - ', track['name'], end=\"\\n\")\n",
    "           else:\n",
    "              print(i, track['artists'][0]['name'], ' - ', track['name'], end=\" \")\n",
    "        \n",
    "        if tracks['next']:\n",
    "            tracks = sp.next(tracks)\n",
    "        else:\n",
    "            tracks = None\n",
    "    return recently_played"
   ]
  }
 ],
 "metadata": {
  "kernelspec": {
   "display_name": "venv_spotify",
   "language": "python",
   "name": "python3"
  },
  "language_info": {
   "codemirror_mode": {
    "name": "ipython",
    "version": 3
   },
   "file_extension": ".py",
   "mimetype": "text/x-python",
   "name": "python",
   "nbconvert_exporter": "python",
   "pygments_lexer": "ipython3",
   "version": "3.12.4"
  }
 },
 "nbformat": 4,
 "nbformat_minor": 2
}
